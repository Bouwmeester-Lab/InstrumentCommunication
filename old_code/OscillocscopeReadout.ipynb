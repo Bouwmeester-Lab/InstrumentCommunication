{
 "cells": [
  {
   "cell_type": "code",
   "execution_count": 1,
   "id": "87801043",
   "metadata": {},
   "outputs": [],
   "source": [
    "###Oscilloscope Readout#####\n",
    "import pyvisa\n",
    "import matplotlib.pyplot as plt\n",
    "import time\n",
    "import numpy as np\n",
    "from IPython import display\n",
    "%matplotlib qt5"
   ]
  },
  {
   "cell_type": "code",
   "execution_count": 2,
   "id": "20cac53a",
   "metadata": {},
   "outputs": [],
   "source": [
    "rm=pyvisa.ResourceManager()\n",
    "scope= rm.open_resource('USB0::0x0957::0x179A::MY52491615::INSTR') #Establish communication with the Oscilloscope"
   ]
  },
  {
   "cell_type": "code",
   "execution_count": 3,
   "id": "df22476e",
   "metadata": {},
   "outputs": [],
   "source": [
    "#Establish settings for the Oscilloscope\n",
    "\n",
    "# vRange=1 refers to 125mv/div. vRange=0 refers to smallest possible value (10mV/div)\n",
    "vRange=3 #code works for max 16 which refers to 2V/div\n",
    "tRange= 500e-9 #refers to full scope i.e s/div=tRange/10\n",
    "trigLevel=0\n",
    "ch=1"
   ]
  },
  {
   "cell_type": "code",
   "execution_count": 4,
   "id": "1dc4821a",
   "metadata": {},
   "outputs": [
    {
     "data": {
      "text/plain": [
       "'1\\n'"
      ]
     },
     "execution_count": 4,
     "metadata": {},
     "output_type": "execute_result"
    }
   ],
   "source": [
    "scope.write('*rst') #Check that Oscilloscope is responding\n",
    "scope.query('*opc?')"
   ]
  },
  {
   "cell_type": "code",
   "execution_count": 5,
   "id": "408eac12",
   "metadata": {},
   "outputs": [
    {
     "data": {
      "text/plain": [
       "27"
      ]
     },
     "execution_count": 5,
     "metadata": {},
     "output_type": "execute_result"
    }
   ],
   "source": [
    "scope.write(f'channel{ch}:range {vRange}') #Change settings in Oscilloscope according to the settings above\n",
    "scope.write(f'timebase:range {tRange}')\n",
    "scope.write('trigger:mode edge')\n",
    "scope.write(f'trigger:level channel{ch}, {trigLevel}')"
   ]
  },
  {
   "cell_type": "code",
   "execution_count": 6,
   "id": "b430dede",
   "metadata": {},
   "outputs": [],
   "source": [
    "scope.write(f'waveform:source channel{ch}') #Establish format of data from oscilloscope\n",
    "scope.write('waveform:format byte')\n",
    "scope.write('digitize')\n",
    "data= scope.query_binary_values('waveform:data?', datatype='b')"
   ]
  },
  {
   "cell_type": "code",
   "execution_count": 7,
   "id": "68125d85",
   "metadata": {},
   "outputs": [],
   "source": [
    "xIncrement = float(scope.query('waveform:xincrement?')) #Query all needed parameters from oscilloscope\n",
    "xOrigin = float(scope.query('waveform:xorigin?'))\n",
    "xref= float(scope.query('waveform:xreference?'))\n",
    "yIncrement = float(scope.query('waveform:yincrement?'))\n",
    "yOrigin = float(scope.query('waveform:yorigin?'))\n",
    "yref= float(scope.query('waveform:yreference?'))\n",
    "length = len(data)"
   ]
  },
  {
   "cell_type": "code",
   "execution_count": 8,
   "id": "641656b0",
   "metadata": {},
   "outputs": [
    {
     "name": "stdout",
     "output_type": "stream",
     "text": [
      "128.0\n"
     ]
    }
   ],
   "source": [
    "#time= []\n",
    "#wfm =[]\n",
    "#for t in range(length):\n",
    "#    time.append((t*xIncrement)+ xOrigin)\n",
    "#for d in data:\n",
    "#    wfm.append((d*yIncrement)+ yOrigin)\n",
    "\n",
    "#Convert data to seconds and Volts\n",
    "time=[(t* xIncrement) +xOrigin for t in range(length)]\n",
    "wfm=[((d+128)*yIncrement)+ yOrigin for d in data]\n",
    "\n",
    "\n"
   ]
  },
  {
   "cell_type": "code",
   "execution_count": 9,
   "id": "b4e346bc",
   "metadata": {},
   "outputs": [
    {
     "data": {
      "text/plain": [
       "[<matplotlib.lines.Line2D at 0x1fcfb12ff10>]"
      ]
     },
     "execution_count": 9,
     "metadata": {},
     "output_type": "execute_result"
    }
   ],
   "source": [
    "#Plot Data\n",
    "plt.plot(time,wfm)"
   ]
  }
 ],
 "metadata": {
  "kernelspec": {
   "display_name": "Python 3 (ipykernel)",
   "language": "python",
   "name": "python3"
  },
  "language_info": {
   "codemirror_mode": {
    "name": "ipython",
    "version": 3
   },
   "file_extension": ".py",
   "mimetype": "text/x-python",
   "name": "python",
   "nbconvert_exporter": "python",
   "pygments_lexer": "ipython3",
   "version": "3.10.9"
  }
 },
 "nbformat": 4,
 "nbformat_minor": 5
}
