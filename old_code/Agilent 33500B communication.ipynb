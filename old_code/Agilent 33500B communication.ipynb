{
 "cells": [
  {
   "cell_type": "code",
   "execution_count": 6,
   "metadata": {},
   "outputs": [
    {
     "data": {
      "text/plain": [
       "('USB0::0x0957::0x2907::MY52500181::INSTR',)"
      ]
     },
     "execution_count": 6,
     "metadata": {},
     "output_type": "execute_result"
    }
   ],
   "source": [
    "####Used to find the name of the Instrument e.g. 'USB0::0x0957::0x2907::MY52500181::INSTR' ###\n",
    "import pyvisa\n",
    "rm=pyvisa.ResourceManager()\n",
    "rm.list_resources()             "
   ]
  },
  {
   "cell_type": "code",
   "execution_count": 3,
   "metadata": {},
   "outputs": [],
   "source": [
    "####Get the required information from the pymeasure library###\n",
    "from pymeasure.instruments.agilent import Agilent33500"
   ]
  },
  {
   "cell_type": "code",
   "execution_count": 14,
   "metadata": {},
   "outputs": [],
   "source": [
    "gen=Agilent33500(\"USB0::0x0957::0x2907::MY52500181::INSTR\") #Declares gen to mean the Agilent Waveform Generator\n",
    "gen.shape= 'SIN' #Choose a waveform (SIN, SQU, TRI, RAMP, PULS, PRBS, NOIS, ARB, DC); ARB might not be availabe\n",
    "gen.frequency= 10 #Set the frequency\n",
    "gen.amplitude=0.1 #Set the amplitude\n",
    "gen.offset=0.0 # Set offset\n",
    "gen.output = 'on' #Turn output on\n",
    " "
   ]
  },
  {
   "cell_type": "code",
   "execution_count": 15,
   "metadata": {},
   "outputs": [],
   "source": [
    "gen.output = 'off' #Turn output off"
   ]
  },
  {
   "cell_type": "code",
   "execution_count": null,
   "metadata": {},
   "outputs": [],
   "source": []
  }
 ],
 "metadata": {
  "kernelspec": {
   "display_name": "Python 3 (ipykernel)",
   "language": "python",
   "name": "python3"
  },
  "language_info": {
   "codemirror_mode": {
    "name": "ipython",
    "version": 3
   },
   "file_extension": ".py",
   "mimetype": "text/x-python",
   "name": "python",
   "nbconvert_exporter": "python",
   "pygments_lexer": "ipython3",
   "version": "3.10.9"
  }
 },
 "nbformat": 4,
 "nbformat_minor": 4
}
